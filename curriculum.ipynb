{
 "cells": [
  {
   "cell_type": "code",
   "execution_count": 13,
   "outputs": [],
   "source": [
    "# Importing the Libraries\n",
    "import pandas as pd"
   ],
   "metadata": {
    "collapsed": false,
    "ExecuteTime": {
     "end_time": "2023-09-04T20:26:27.143745Z",
     "start_time": "2023-09-04T20:26:27.138674Z"
    }
   },
   "id": "97fdffc24428ac29"
  },
  {
   "cell_type": "code",
   "execution_count": 14,
   "outputs": [],
   "source": [
    "# Defining the Constants\n",
    "preprocessed_files = []\n",
    "CURRICULUM_FILES_PATH = 'curriculum_files/'\n",
    "PREPROCESSED_FILES_PATH = 'preprocessed_files/'\n",
    "FEATURE_NAMES = ['StandardizedMeanAgeOfAcquisition', 'StandardizedMeanReadabilityGradeLevel', 'StandardizedMeanReadTime','CumulativeDifficultyScore']\n",
    "preprocessed_file_names = ['aochildes_preprocessed.xlsx', 'bnc_spoken_preprocessed.xlsx', 'cbt_preprocessed.xlsx', 'children_stories_preprocessed.xlsx', 'gutenberg_preprocessed.xlsx', 'open_subtitles_preprocessed.xlsx', 'qed_preprocessed.xlsx', 'simple_wikipedia_preprocessed.xlsx', 'switchboard_preprocessed.xlsx', 'wikipedia_preprocessed.xlsx']\n",
    "curriculum_file_names = ['curriculum_of_' + file_name for file_name in preprocessed_file_names ]\n",
    "LEVELS = [5, 10, 20]\n",
    "TRAIN_DATA_PATH = 'train_data/'\n",
    "CURRICULUMS = ['C1/', 'C2/', 'C3/', 'C4/']\n",
    "CURRICULUMS = [TRAIN_DATA_PATH + curriculum for curriculum in CURRICULUMS]\n",
    "LEVEL_PATHS = ['5-LEVEL/', '10-LEVEL/', '20-LEVEL/']\n",
    "C1_PATHS = [CURRICULUMS[0] + level_path for level_path in LEVEL_PATHS]\n",
    "C2_PATHS = [CURRICULUMS[1] + level_path for level_path in LEVEL_PATHS]\n",
    "C3_PATHS = [CURRICULUMS[2] + level_path for level_path in LEVEL_PATHS]\n",
    "C4_PATHS = [CURRICULUMS[3] + level_path for level_path in LEVEL_PATHS]\n",
    "C_PATHS = [C1_PATHS, C2_PATHS, C3_PATHS, C4_PATHS]"
   ],
   "metadata": {
    "collapsed": false,
    "ExecuteTime": {
     "end_time": "2023-09-04T20:26:27.168744Z",
     "start_time": "2023-09-04T20:26:27.167583Z"
    }
   },
   "id": "70780a8dfd62e7b1"
  },
  {
   "cell_type": "code",
   "execution_count": 15,
   "outputs": [],
   "source": [
    "def create_curriculum_for_file_all_levels (df_in, file_name_in):\n",
    "    df = df_in.copy()\n",
    "    for level in LEVELS:\n",
    "        for feature_name in FEATURE_NAMES:\n",
    "            df.sort_values(by=[feature_name], inplace=True)    \n",
    "            # Create a new column called '5-Level'\n",
    "            column_name = feature_name + '-'+ str(level) + '-Level'\n",
    "            # Initialize the column with 0s\n",
    "            df[column_name] = 0\n",
    "            # for the first 1/level of the rows, assign 1 to the 'Level' column, for the next 1/level of the rows, assign 2 to the 'Level' column, and so on\n",
    "            # Calculate the size of each partition\n",
    "            partition_size = len(df) // level\n",
    "            # Assign levels to each partition\n",
    "            for i in range(level):\n",
    "                start_idx = i * partition_size\n",
    "                end_idx = start_idx + partition_size\n",
    "                df.iloc[start_idx:end_idx, df.columns.get_loc(column_name)] = i + 1\n",
    "            # Handle any remaining rows\n",
    "            if len(df) % level != 0:\n",
    "                df.iloc[end_idx:, df.columns.get_loc(column_name)] = level\n",
    "    df.to_excel(CURRICULUM_FILES_PATH + 'curriculum_of_'+file_name_in, index=False)\n",
    "def create_all():\n",
    "    for file_name in preprocessed_file_names:\n",
    "        preprocessed_files.append(pd.read_excel(PREPROCESSED_FILES_PATH + file_name))\n",
    "    for i1 in range(len(preprocessed_files)):\n",
    "        create_curriculum_for_file_all_levels(preprocessed_files[i1], preprocessed_file_names[i1])"
   ],
   "metadata": {
    "collapsed": false,
    "ExecuteTime": {
     "end_time": "2023-09-04T20:26:27.173407Z",
     "start_time": "2023-09-04T20:26:27.171786Z"
    }
   },
   "id": "32a44701c9f410e"
  },
  {
   "cell_type": "code",
   "execution_count": 16,
   "outputs": [],
   "source": [
    "def merge_curriculums(level: int):\n",
    "    c1_feature_name = FEATURE_NAMES[0] + '-' + str(level) + '-Level'\n",
    "    c2_feature_name = FEATURE_NAMES[1] + '-' + str(level) + '-Level'\n",
    "    c3_feature_name = FEATURE_NAMES[2] + '-' + str(level) + '-Level'\n",
    "    c4_feature_name = FEATURE_NAMES[3] + '-' + str(level) + '-Level'\n",
    "    ftr_names = [c1_feature_name, c2_feature_name, c3_feature_name, c4_feature_name]\n",
    "    for i3 in range (1, level+1):\n",
    "        for i4 in range (len(ftr_names)):\n",
    "            levels = []\n",
    "            for curriculum_file in curriculum_file_names:\n",
    "                df = pd.read_excel(CURRICULUM_FILES_PATH + curriculum_file)\n",
    "                c_df = df[df[ftr_names[i4]] == i3]\n",
    "                c_df = c_df[['MergedLines']]\n",
    "                c_df.dropna(inplace=True)\n",
    "                c_df['MergedLines'] = c_df['MergedLines'].str.split('\\n')\n",
    "                c_df = c_df.explode('MergedLines', ignore_index=True)\n",
    "                c_df['MergedLines'] = c_df['MergedLines'].str.strip()\n",
    "                c_df = c_df[~(c_df == \"\").all(axis=1)]\n",
    "                levels.append(c_df)\n",
    "            levels = pd.concat(levels)\n",
    "            index = -1\n",
    "            if level == 5:\n",
    "                index = 0\n",
    "            elif level == 10:\n",
    "                index = 1\n",
    "            elif level == 20:\n",
    "                index = 2\n",
    "            else: \n",
    "                print('Invalid level')\n",
    "                # Exit the program \n",
    "                exit()\n",
    "                \n",
    "            levels.to_csv(C_PATHS[i4][index] + 'C' + str(i4+1) + '-' + str(level) + '-Level-' + str(i3) + '.train', index=False, header=False)"
   ],
   "metadata": {
    "collapsed": false,
    "ExecuteTime": {
     "end_time": "2023-09-04T20:26:27.178960Z",
     "start_time": "2023-09-04T20:26:27.176915Z"
    }
   },
   "id": "bf3700b293aa99b9"
  },
  {
   "cell_type": "code",
   "execution_count": 17,
   "outputs": [],
   "source": [
    "def main():\n",
    "    create_all()\n",
    "    merge_curriculums(5)\n",
    "    merge_curriculums(10)\n",
    "    merge_curriculums(20)"
   ],
   "metadata": {
    "collapsed": false,
    "ExecuteTime": {
     "end_time": "2023-09-04T20:26:27.182755Z",
     "start_time": "2023-09-04T20:26:27.180605Z"
    }
   },
   "id": "ce182f53b7d56f1e"
  },
  {
   "cell_type": "code",
   "execution_count": 18,
   "outputs": [],
   "source": [
    "# Run the main function\n",
    "main()"
   ],
   "metadata": {
    "collapsed": false,
    "ExecuteTime": {
     "end_time": "2023-09-04T20:33:59.074660Z",
     "start_time": "2023-09-04T20:26:27.182937Z"
    }
   },
   "id": "ea8e8458cff47ec8"
  }
 ],
 "metadata": {
  "kernelspec": {
   "display_name": "Python 3",
   "language": "python",
   "name": "python3"
  },
  "language_info": {
   "codemirror_mode": {
    "name": "ipython",
    "version": 2
   },
   "file_extension": ".py",
   "mimetype": "text/x-python",
   "name": "python",
   "nbconvert_exporter": "python",
   "pygments_lexer": "ipython2",
   "version": "2.7.6"
  }
 },
 "nbformat": 4,
 "nbformat_minor": 5
}
