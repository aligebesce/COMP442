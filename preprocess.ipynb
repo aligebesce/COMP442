{
 "cells": [
  {
   "cell_type": "code",
   "execution_count": null,
   "outputs": [],
   "source": [
    "import os\n",
    "import pandas as pd\n",
    "import spacy\n",
    "from glob import glob\n",
    "from tqdm import tqdm\n",
    "import lftk\n",
    "\n",
    "# Path where the files are stored\n",
    "data_folder = \"raw_data\"\n",
    "files = sorted(glob(f\"{data_folder}/*.train\"))\n",
    "\n",
    "# Load a trained pipeline of your choice from spaCy\n",
    "nlp = spacy.load(\"en_core_web_sm\")\n",
    "\n",
    "# Specify features to be extracted\n",
    "to_be_extracted = [\"a_bry_pw\", \"a_kup_pw\", \"fkgl\", \"fogi\", \"cole\", \"auto\", \"rt_fast\", \"rt_average\", \"rt_slow\"]\n",
    "\n",
    "# Iterate over all the files\n",
    "for single_file in files:\n",
    "    print(f\"Processing {single_file}\")\n",
    "\n",
    "    with open(single_file, 'r') as f:\n",
    "        lines = f.readlines()\n",
    "\n",
    "    # Group lines by 32\n",
    "    grouped_lines = [' '.join(lines[i:i+32]) for i in range(0, len(lines), 32)]\n",
    "\n",
    "    # Create a list to store extracted features for each group\n",
    "    all_extracted_lines = []\n",
    "\n",
    "    # Process each group\n",
    "    for line in tqdm(grouped_lines):\n",
    "        doc = nlp(line)\n",
    "        LFTK = lftk.Extractor(docs=doc)\n",
    "        LFTK.customize(stop_words=True, punctuations=False, round_decimal=3)\n",
    "        extracted_features = LFTK.extract(features=to_be_extracted)\n",
    "        all_extracted_lines.append(extracted_features)\n",
    "\n",
    "    df = pd.DataFrame(all_extracted_lines)\n",
    "    df['MergedLines'] = grouped_lines[:len(all_extracted_lines)]\n",
    "    df['MeanAgeOfAcquisition'] = df.iloc[:, 0:2].mean(axis=1)\n",
    "    df['MeanReadabilityGradeLevel'] = df.iloc[:, 2:6].mean(axis=1)\n",
    "    df['MeanReadTime'] = df.iloc[:, 6:9].mean(axis=1)\n",
    "\n",
    "    # Standardize the means\n",
    "    df['StandardizedMeanAgeOfAcquisition'] = (df['MeanAgeOfAcquisition'] - df['MeanAgeOfAcquisition'].mean()) / df['MeanAgeOfAcquisition'].std()\n",
    "    df['StandardizedMeanReadabilityGradeLevel'] = (df['MeanReadabilityGradeLevel'] - df['MeanReadabilityGradeLevel'].mean()) / df['MeanReadabilityGradeLevel'].std()\n",
    "    df['StandardizedMeanReadTime'] = (df['MeanReadTime'] - df['MeanReadTime'].mean()) / df['MeanReadTime'].std()\n",
    "\n",
    "    # Calculate the cumulative score\n",
    "    df['CumulativeDifficultyScore'] = df['StandardizedMeanAgeOfAcquisition'] + df['StandardizedMeanReadabilityGradeLevel'] + df['StandardizedMeanReadTime']\n",
    "\n",
    "    # Drop unnecessary columns\n",
    "    df.drop(['a_bry_pw', 'a_kup_pw', 'fkgl', 'fogi', 'cole', 'auto', 'rt_fast', 'rt_average', 'rt_slow'], axis=1, inplace=True)\n",
    "\n",
    "    # Generate output file name and path\n",
    "    output_file = single_file.split('/')[-1].replace('.train', '_preprocessed.xlsx')\n",
    "    output_path = os.path.join(\"preprocessed_files/\", output_file)\n",
    "\n",
    "    # Save to Excel\n",
    "    df.to_excel(output_path, index=True)\n",
    "    print(f\"Saved to {output_path}\")\n"
   ],
   "metadata": {
    "collapsed": false
   },
   "id": "dd36a7a2ad00ad44"
  }
 ],
 "metadata": {
  "kernelspec": {
   "display_name": "Python 3",
   "language": "python",
   "name": "python3"
  },
  "language_info": {
   "codemirror_mode": {
    "name": "ipython",
    "version": 2
   },
   "file_extension": ".py",
   "mimetype": "text/x-python",
   "name": "python",
   "nbconvert_exporter": "python",
   "pygments_lexer": "ipython2",
   "version": "2.7.6"
  }
 },
 "nbformat": 4,
 "nbformat_minor": 5
}
